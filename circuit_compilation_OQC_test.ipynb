{
 "cells": [
  {
   "cell_type": "markdown",
   "metadata": {},
   "source": [
    "# Pulse compilation and Optimization "
   ]
  },
  {
   "cell_type": "markdown",
   "metadata": {},
   "source": [
    "basis_gates = A collection of classes for 1 and 2 qubit basis gates, gate-set objects = (I,X,Y,Z,CX,CZ)<br>\n",
    "\n",
    "<br>\n",
    "Operation = Takes a circuit instruction in the form of string and returns its numpy matrix rep. This additional feature has been added for verifying the matrix representation of the complete pulse train, before and after compilation/optimization.<br>\n",
    "\n",
    "\n",
    "\n",
    "random_two_qubit_circuit_instructions = A class that generates a string of one and two qubit gates from the gate-set.<br>\n",
    "<br>\n",
    "random_one_qubit_circuit_instructions = A class that generates a string of one qubit gate from the gate-set.<br>\n",
    "<br>\n",
    "circuit = A class that compiles a pulse train of one or two qubit gates to the basis gates (I,X,Z,CX)."
   ]
  },
  {
   "cell_type": "code",
   "execution_count": 41,
   "metadata": {},
   "outputs": [],
   "source": [
    "from basis_gates import I,X,Y,Z,CX\n",
    "from Operation import Operation\n",
    "from Moment import Moment\n",
    "from random_two_qubit_circuit_instructions import random_two_qubit_circuit_instructions\n",
    "from random_one_qubit_circuit_instructions import random_one_qubit_circuit_instructions\n",
    "from circuit import circuit\n",
    "import numpy"
   ]
  },
  {
   "cell_type": "code",
   "execution_count": 42,
   "metadata": {},
   "outputs": [],
   "source": [
    "#This function maps the circuit instruction seq. to a unitary matrix\n",
    "def circuit_to_matrix(circ_str):\n",
    "    list_of_ops=circ_str.split(';\\n')[1:]\n",
    "    Op_matrix=numpy.eye(4)+0*1j\n",
    "    for i in range(len(list_of_ops)):\n",
    "        decomposed_ops=list_of_ops[i].split('|')\n",
    "        for j in range(len(decomposed_ops)):\n",
    "            M=Operation(decomposed_ops[j]).matrix\n",
    "            Op_matrix=Op_matrix@M\n",
    "    return Op_matrix        "
   ]
  },
  {
   "cell_type": "markdown",
   "metadata": {},
   "source": [
    "# Pulse compilation for one qubit circuit instructions."
   ]
  },
  {
   "cell_type": "code",
   "execution_count": 43,
   "metadata": {},
   "outputs": [
    {
     "name": "stdout",
     "output_type": "stream",
     "text": [
      "____________circuit instructions___________\n",
      " qubits 2;\n",
      "Y(1.6291789594) [0]|I [1];\n",
      "Z(1.7254370363) [0]|I [1];\n",
      "X(-2.9730280269) [0]|I [1];\n",
      "Z(1.6143494254) [0]|I [1];\n",
      "Y(0.5845019928) [0]|I [1];\n",
      "Z(2.0751475080) [0]|I [1];\n",
      "Z(-1.1342033299) [0]|I [1] \n",
      " ____________circuit instructions after first compilation___________\n",
      " qubits 2;\n",
      "Y(1.6291789594) [0]|I [1];\n",
      "Z(1.7254370363) [0]|I [1];\n",
      "X(-2.9730280269) [0]|I [1];\n",
      "Z(1.6143494254) [0]|I [1];\n",
      "Y(0.5845019928) [0]|I [1];\n",
      "Z(0.9409442) [0]|I [1];\n",
      "\n"
     ]
    }
   ],
   "source": [
    "#Take as input the depth\n",
    "depth=7 \n",
    "#Construct a random one quantum circuit instruction string from the basis gates\n",
    "random_circ_str=random_one_qubit_circuit_instructions(int(depth)).circ_str\n",
    "#circuit class is initialized with this circuit string\n",
    "circ=circuit(random_circ_str)\n",
    "'''\n",
    "circuit string is converted to moment string where quantum operations\n",
    "are implemented simulatenously whenever possible\n",
    "'''\n",
    "moments,instruction_str=circ.circuit_to_moments()\n",
    "\n",
    "\n",
    "print(\"____________circuit instructions___________\\n\",random_circ_str,'\\n',\"____________circuit instructions after first compilation___________\\n\",instruction_str)"
   ]
  },
  {
   "cell_type": "markdown",
   "metadata": {},
   "source": [
    "### Translate from __[X,Y,Z,CX]__ to __[X,Z,CX]__"
   ]
  },
  {
   "cell_type": "code",
   "execution_count": 44,
   "metadata": {},
   "outputs": [
    {
     "name": "stdout",
     "output_type": "stream",
     "text": [
      "________translated circuit moments___________\n",
      " qubits 2;\n",
      "0|X(0.78539816339) [0]|I [1];\n",
      "1|Z(1.6291789594) [0]|I [1];\n",
      "2|X(-0.78539816339) [0]|I [1];\n",
      "3|Z(1.7254370363) [0]|I [1];\n",
      "4|X(-2.9730280269) [0]|I [1];\n",
      "5|Z(1.6143494254) [0]|I [1];\n",
      "6|X(0.78539816339) [0]|I [1];\n",
      "7|Z(0.5845019928) [0]|I [1];\n",
      "8|X(-0.78539816339) [0]|I [1];\n",
      "9|Z(0.9409442) [0]|I [1];\n",
      "\n"
     ]
    }
   ],
   "source": [
    "#translate to the required gate-set as mentioned in the technical test\n",
    "choice='3' #compiles to gate-set ['X','Z','CX'] other two choices '1' and '2' allows compiling to other gate sets ['X','Y','Z','CZ'] and ['X','Z','Z','CX']\n",
    "circ=circuit(instruction_str[:-2])\n",
    "translated_circ=circ.compile_to_gateset(instruction_str[:-2],choice)\n",
    "circ=circuit(translated_circ)\n",
    "moments,instruction_str_trans=circ.circuit_to_moments()\n",
    "instruction_str_trans=instruction_str_trans[:-4]\n",
    "moments=moments[:-5]\n",
    "print(\"________translated circuit moments___________\\n\",moments)"
   ]
  },
  {
   "cell_type": "code",
   "execution_count": 45,
   "metadata": {},
   "outputs": [
    {
     "data": {
      "text/plain": [
       "True"
      ]
     },
     "execution_count": 45,
     "metadata": {},
     "output_type": "execute_result"
    }
   ],
   "source": [
    "# check equivalence between unitary matrix forms of original and compiled circuit\n",
    "numpy.allclose(circuit_to_matrix(random_circ_str),circuit_to_matrix(instruction_str_trans))"
   ]
  },
  {
   "cell_type": "markdown",
   "metadata": {},
   "source": [
    "# Pulse compilation for two qubit circuit instructions."
   ]
  },
  {
   "cell_type": "code",
   "execution_count": 46,
   "metadata": {},
   "outputs": [
    {
     "name": "stdout",
     "output_type": "stream",
     "text": [
      "____________circuit instructions___________\n",
      " qubits 2;\n",
      "Y(-2.1382685232) [0]|I [1];\n",
      "I [0]|X(-2.3966840438) [1];\n",
      "X(0.1242241135) [0]|I [1];\n",
      "I [0]|Z(0.8714701783) [1];\n",
      "X(-1.9071639737) [0]|I [1];\n",
      "CX [0,1];\n",
      "I [0]|Y(1.8971277542) [1] \n",
      " ____________circuit instructions after first compilation___________\n",
      " qubits 2;\n",
      "Y(-2.1382685232) [0]|X(-2.3966840438) [1];\n",
      "X(-1.7829399) [0]|Z(0.8714701783) [1];\n",
      "CX [0,1];\n",
      "I [0]|Y(1.8971277542) [1];\n",
      "\n"
     ]
    }
   ],
   "source": [
    "#Take as input the depth\n",
    "depth=7 \n",
    "#Construct a random two quantum circuit instruction string from the basis gates\n",
    "random_circ_str=random_two_qubit_circuit_instructions(int(depth)).circ_str\n",
    "#circuit class is initialized with this circuit string\n",
    "circ=circuit(random_circ_str)\n",
    "'''\n",
    "circuit string is converted to moment string where quantum operations\n",
    "are implemented simulatenously whenever possible\n",
    "'''\n",
    "moments,instruction_str=circ.circuit_to_moments()\n",
    "\n",
    "\n",
    "print(\"____________circuit instructions___________\\n\",random_circ_str,'\\n',\"____________circuit instructions after first compilation___________\\n\",instruction_str)"
   ]
  },
  {
   "cell_type": "code",
   "execution_count": 47,
   "metadata": {},
   "outputs": [
    {
     "name": "stdout",
     "output_type": "stream",
     "text": [
      "________translated circuit moments___________\n",
      " qubits 2;\n",
      "0|X(0.78539816339) [0]|I [1];\n",
      "1|Z(-2.1382685232) [0]|I [1];\n",
      "2|X(-2.5683381) [0]|X(-2.3966840438) [1];\n",
      "3|I [0]|Z(0.8714701783) [1];\n",
      "4|CX [0,1];\n",
      "5|I [0]|X(0.78539816339) [1];\n",
      "6|I [0]|Z(1.8971277542) [1];\n",
      "7|I [0]|X(-0.78539816339) [1];\n"
     ]
    }
   ],
   "source": [
    "#translate to the required gate-set as mentioned in the technical test\n",
    "choice='3' #compiles to gate-set ['X','Z','CX'] other two choices '1' and '2' allows compiling to other gate sets ['X','Y','Z','CZ'] and ['X','Z','Z','CX']\n",
    "circ=circuit(instruction_str[:-2])\n",
    "translated_circ=circ.compile_to_gateset(instruction_str[:-2],choice)\n",
    "circ=circuit(translated_circ)\n",
    "moments,instruction_str_trans=circ.circuit_to_moments()\n",
    "instruction_str_trans=instruction_str_trans[:-4]\n",
    "moments=moments[:-5]\n",
    "print(\"________translated circuit moments___________\\n\",moments)"
   ]
  },
  {
   "cell_type": "code",
   "execution_count": 48,
   "metadata": {},
   "outputs": [
    {
     "data": {
      "text/plain": [
       "True"
      ]
     },
     "execution_count": 48,
     "metadata": {},
     "output_type": "execute_result"
    }
   ],
   "source": [
    "# check equivalence between unitary matrix forms of original and compiled circuit\n",
    "numpy.allclose(circuit_to_matrix(random_circ_str),circuit_to_matrix(instruction_str_trans))"
   ]
  }
 ],
 "metadata": {
  "kernelspec": {
   "display_name": "Python 3",
   "language": "python",
   "name": "python3"
  },
  "language_info": {
   "codemirror_mode": {
    "name": "ipython",
    "version": 3
   },
   "file_extension": ".py",
   "mimetype": "text/x-python",
   "name": "python",
   "nbconvert_exporter": "python",
   "pygments_lexer": "ipython3",
   "version": "3.8.3"
  }
 },
 "nbformat": 4,
 "nbformat_minor": 4
}
